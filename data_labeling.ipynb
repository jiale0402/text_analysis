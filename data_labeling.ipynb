{
 "cells": [
  {
   "cell_type": "code",
   "execution_count": 50,
   "metadata": {},
   "outputs": [
    {
     "name": "stderr",
     "output_type": "stream",
     "text": [
      "[nltk_data] Downloading package punkt to /Users/jialechen/nltk_data...\n",
      "[nltk_data]   Package punkt is already up-to-date!\n"
     ]
    },
    {
     "data": {
      "text/plain": [
       "[{'total word counts': 42,\n",
       "  'unique word counts': 35,\n",
       "  'number of sentences': 2,\n",
       "  'average length of sentences (characters)': 139.5,\n",
       "  'special characters': 44},\n",
       " {'total word counts': 41,\n",
       "  'unique word counts': 33,\n",
       "  'number of sentences': 3,\n",
       "  'average length of sentences (characters)': 92.33333333333333,\n",
       "  'special characters': 44},\n",
       " {'total word counts': 11,\n",
       "  'unique word counts': 8,\n",
       "  'number of sentences': 1,\n",
       "  'average length of sentences (characters)': 38.0,\n",
       "  'special characters': 12}]"
      ]
     },
     "execution_count": 50,
     "metadata": {},
     "output_type": "execute_result"
    }
   ],
   "source": [
    "import os\n",
    "import nltk\n",
    "nltk.download('punkt')\n",
    "from nltk.tokenize import sent_tokenize\n",
    "\n",
    "def read_text(src = None, filetype = 'txt'):\n",
    "    \"\"\"\n",
    "    this function reads all txt files under specified dir\n",
    "    and does some corresponding feature engineering (word count, sentences)\n",
    "    output is a list of dicts, with each dict containing relevant features\n",
    "    \"\"\"\n",
    "    \n",
    "    def word_count(str):\n",
    "        \"\"\"\n",
    "        turns a string into counts, return a dict\n",
    "        \"\"\"\n",
    "        counts = dict()\n",
    "        words = str.split()\n",
    "        for word in words:\n",
    "            if word in counts:\n",
    "                counts[word] += 1\n",
    "            else:\n",
    "                counts[word] = 1\n",
    "        return counts\n",
    "\n",
    "    wd = os.getcwd() if src != None else src\n",
    "    files = [f for f in os.listdir(wd) if f.endswith(filetype)]\n",
    "    extracted = [{} for f in files]\n",
    "\n",
    "    for i in range(len(files)):\n",
    "        \n",
    "        f = files[i]\n",
    "        \n",
    "        with open(f) as t:\n",
    "            \n",
    "            text = t.read()\n",
    "            d = word_count(text)\n",
    "            tokens = sent_tokenize(text)\n",
    "            special_char = [c for c in text if not c.isalpha() and not c.isdigit() and c != '\\n']\n",
    "            \n",
    "            extracted[i]['total word counts'] = sum(d.values())\n",
    "            extracted[i]['unique word counts'] = len(d.values())\n",
    "            extracted[i]['number of sentences'] = len(tokens)\n",
    "            extracted[i]['average length of sentences (characters)'] = sum( map(len, tokens) ) / len(tokens)\n",
    "            extracted[i]['special characters'] = len(special_char)\n",
    "    \n",
    "    return extracted\n",
    "\n",
    "\n",
    "\n",
    "read_text()"
   ]
  }
 ],
 "metadata": {
  "kernelspec": {
   "display_name": "base",
   "language": "python",
   "name": "python3"
  },
  "language_info": {
   "codemirror_mode": {
    "name": "ipython",
    "version": 3
   },
   "file_extension": ".py",
   "mimetype": "text/x-python",
   "name": "python",
   "nbconvert_exporter": "python",
   "pygments_lexer": "ipython3",
   "version": "3.9.10"
  },
  "orig_nbformat": 4,
  "vscode": {
   "interpreter": {
    "hash": "c7cf1142b5ddd1e1daa93191adaf8330dff0916815175c263ce71424b6641312"
   }
  }
 },
 "nbformat": 4,
 "nbformat_minor": 2
}
